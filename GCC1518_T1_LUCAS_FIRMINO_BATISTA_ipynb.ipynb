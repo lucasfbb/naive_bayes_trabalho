{
  "cells": [
    {
      "cell_type": "markdown",
      "metadata": {
        "id": "vxrevI0qO1Aq"
      },
      "source": [
        "# **Importando bibliotecas**\n",
        "\n",
        "> Primeiro de tudo, todas as bibliotecas utilizadas na implementação são importadas.\n",
        "\n"
      ]
    },
    {
      "cell_type": "code",
      "execution_count": 1,
      "metadata": {
        "id": "nEI5YmkkGls9"
      },
      "outputs": [],
      "source": [
        "import pandas as pd\n",
        "import numpy as np\n",
        "from sklearn.model_selection import train_test_split\n",
        "from sklearn.metrics import accuracy_score\n",
        "from sklearn.preprocessing import LabelEncoder, StandardScaler\n",
        "from scipy.stats import multivariate_normal"
      ]
    },
    {
      "cell_type": "markdown",
      "metadata": {
        "id": "vHp6ofOsF1Z7"
      },
      "source": [
        "\n",
        "  # **1 - Preparação dos dados**\n",
        "\n",
        "  > Nesta seção são realizadas várias etapas comuns no pré-processamento e na preparação de dados para treinar e avaliar um modelo de classificação, sendo elas o leitura e renomeação dos dados, limpeza e conversão de dados categóricos, preparação dos dados para modelagem e divisão dos dados em conjunto de treino e teste.\n",
        "  \n",
        "  >❗A divisão em conjuntos de treino e teste é especialmente importante para avaliar a capacidade do modelo de generalizar para novos dados não vistos durante o treinamento.\n",
        "\n",
        "\n",
        "\n",
        "  "
      ]
    },
    {
      "cell_type": "markdown",
      "metadata": {
        "id": "NoOR09eSOgMo"
      },
      "source": [
        "## Leitura e renomeação do conjunto de dados"
      ]
    },
    {
      "cell_type": "code",
      "execution_count": 2,
      "metadata": {
        "id": "59Lqw01oO70Y"
      },
      "outputs": [],
      "source": [
        "# Carrega o conjunto de dados\n",
        "df = pd.read_csv(\"http://archive.ics.uci.edu/ml/machine-learning-databases/adult/adult.data\")\n",
        "\n",
        "# Renomeia as colunas do DataFrame\n",
        "df.columns = [\"age\",\"workclass\",\"finalweight\",\"education\",\n",
        "                 \"education-num\",\"martial-status\",\"occupation\",\n",
        "                 \"relationship\",\"race\",\"sex\",\"capital-gain\",\n",
        "                 \"capital-loss\",\"hours-per-week \",\"native-country\",\n",
        "                 \"income\"]\n"
      ]
    },
    {
      "cell_type": "markdown",
      "metadata": {
        "id": "uWFON6ykCvUi"
      },
      "source": [
        "## Limpeza e preparação dos dados"
      ]
    },
    {
      "cell_type": "code",
      "execution_count": 3,
      "metadata": {
        "colab": {
          "base_uri": "https://localhost:8080/"
        },
        "id": "icqqTLM5CzbC",
        "outputId": "07ab5983-caad-43b3-9a75-58a93d843800"
      },
      "outputs": [
        {
          "name": "stdout",
          "output_type": "stream",
          "text": [
            "['<=50K', '>50K']\n"
          ]
        }
      ],
      "source": [
        "# Limpeza nos dados removendo espaços em branco desnecessários do início e do final das strings\n",
        "\n",
        "for col in df.columns:\n",
        "  if df[col].dtype == object:\n",
        "      df[col] = df[col].str.strip()\n",
        "\n",
        "X = df.drop('income', axis=1)\n",
        "y = df.income\n",
        "\n",
        "X.head()\n",
        "\n",
        "le = LabelEncoder()\n",
        "le.fit(['<=50K', '>50K'])\n",
        "print(list(le.classes_))\n",
        "\n",
        "# Converte variáveis categóricas (strings) em representações numéricas para preparar os dados categóricos para o modelo de classificação\n",
        "\n",
        "atributos = X.select_dtypes(include=['object']).columns\n",
        "\n",
        "for atributo in atributos:\n",
        "  X[atributo] = le.fit_transform(X[atributo])"
      ]
    },
    {
      "cell_type": "markdown",
      "metadata": {
        "id": "wIv30tNRO926"
      },
      "source": [
        "## Divisão do conjunto de dados (treino/teste)"
      ]
    },
    {
      "cell_type": "code",
      "execution_count": 4,
      "metadata": {
        "colab": {
          "base_uri": "https://localhost:8080/"
        },
        "id": "8pPJz9pJPUwi",
        "outputId": "f8d02172-7a4b-4686-e0e8-5ea528fa15ad"
      },
      "outputs": [
        {
          "name": "stdout",
          "output_type": "stream",
          "text": [
            "(6512, 14)\n"
          ]
        }
      ],
      "source": [
        "train_ratio = 0.8   # Proporção 80/20 para treino e teste respectivamente\n",
        "\n",
        "# Divide os dados em conjunto de treino e teste\n",
        "x_train, x_test, y_train, y_test = train_test_split(X, y, train_size=train_ratio, random_state=42)\n",
        "\n",
        "# Obtem as dimensões do conjunto de teste\n",
        "dimensoes_teste = x_test.shape\n",
        "\n",
        "# Imprime as dimensões do conjunto de teste\n",
        "print(dimensoes_teste)"
      ]
    },
    {
      "cell_type": "markdown",
      "metadata": {
        "id": "izxaOHx7F-sr"
      },
      "source": [
        "# **2 - Criação do modelo**\n",
        "\n",
        "\n",
        "\n",
        "\n",
        "\n",
        "> Nesta seção é realizado o treinamento de um modelo probabilístico utilizando dados de treinamento para estimar as distribuições de probabilidade para cada classe e em seguida são utilizados tais modelos para fazer predições sobre novos dados (conjunto de teste), determinando a classe mais provável para cada elemento com base nas probabilidades condicionais calculadas.\n",
        "\n",
        "\n",
        "\n",
        "\n"
      ]
    },
    {
      "cell_type": "markdown",
      "metadata": {
        "id": "mAimuKD9Gucy"
      },
      "source": [
        "## **Classificação do dados**\n"
      ]
    },
    {
      "cell_type": "code",
      "execution_count": null,
      "metadata": {
        "colab": {
          "base_uri": "https://localhost:8080/"
        },
        "id": "WYSNjTkpGb0X",
        "outputId": "b02af886-48ba-4a12-eb18-016596a97c26"
      },
      "outputs": [],
      "source": [
        "\n",
        "# Obtém as classes únicas do último atributo (coluna) do DataFrame df\n",
        "classes_df = np.array(pd.unique(df[df.columns[-1]]), dtype=str)\n",
        "\n",
        "# Cria uma matriz de probabilidades inicializada com zeros para armazenar as probabilidades de pertencer a cada classe para os elementos do conjunto de teste\n",
        "matriz_probabilidades = pd.DataFrame(data=np.zeros((x_test.shape[0], len(classes_df))), columns=classes_df)\n",
        "\n",
        "# Cria um array de zeros para armazenar a probabilidade de pertencer a cada classe\n",
        "matriz_c = np.zeros(len(classes_df))\n",
        "\n",
        "# Calcula a probabilidade de pertencer a cada classe e estima os parâmetros de distribuição para cada classe\n",
        "for i in np.arange(0, len(classes_df)):\n",
        "    # Seleciona os índices dos elementos no conjunto de treinamento que pertencem à classe i\n",
        "    itens = tuple(np.where(y_train == classes_df[i]))\n",
        "\n",
        "    # Calcula a probabilidade de pertencer à classe i\n",
        "    matriz_c[i] = len(itens) / len(y_train)\n",
        "\n",
        "    # Seleciona os elementos da classe i do conjunto de treinamento\n",
        "    a = x_train.iloc[itens]\n",
        "\n",
        "    # Calcula a média e a matriz de covariância para a classe i\n",
        "    media = np.mean(a, axis=0)\n",
        "    covariancia = np.cov(np.transpose(a))\n",
        "\n",
        "    # Calcula a densidade de probabilidade multivariada para cada elemento do conjunto de teste\n",
        "    for j in np.arange(0, x_test.shape[0]):\n",
        "        # Seleciona a linha j do DataFrame x_test e atribui-a à variável x\n",
        "        x = x_test.iloc[j]\n",
        "\n",
        "        # Calcula a densidade de probabilidade para o ponto x pertencendo à classe i\n",
        "        pj = multivariate_normal.pdf(x, mean=media, cov=covariancia, allow_singular=True)\n",
        "\n",
        "        # Armazena a probabilidade calculada na matriz de probabilidades para a classe i e o elemento j do conjunto de teste\n",
        "        matriz_probabilidades[classes_df[i]][j] = pj * matriz_c[i]\n",
        "\n",
        "# Imprime a matriz de probabilidades resultante\n",
        "print(matriz_probabilidades)\n",
        "\n"
      ]
    },
    {
      "cell_type": "markdown",
      "metadata": {
        "id": "xVJw0Gu7G8QU"
      },
      "source": [
        "## **Utilizando o modelo de classificação**"
      ]
    },
    {
      "cell_type": "code",
      "execution_count": 6,
      "metadata": {
        "colab": {
          "base_uri": "https://localhost:8080/"
        },
        "id": "RkcxvjubG7y9",
        "outputId": "a37edc55-49be-43db-bb22-2d8ef07916ec"
      },
      "outputs": [
        {
          "name": "stdout",
          "output_type": "stream",
          "text": [
            "['<=50K' '<=50K' '<=50K' ... '<=50K' '<=50K' '>50K']\n"
          ]
        }
      ],
      "source": [
        "predicao = []\n",
        "\n",
        "# Itera sobre cada linha do conjunto de teste\n",
        "for i in np.arange(0, x_test.shape[0]):\n",
        "    # Encontra o índice da coluna com a maior probabilidade para a amostra i\n",
        "    c = np.argmax(np.array(matriz_probabilidades.iloc[[i]]))\n",
        "\n",
        "    # Adiciona a classe correspondente ao índice \"c\" à lista de predições\n",
        "    predicao.append(classes_df[c])\n",
        "\n",
        "# Converte a lista de predições para um array numpy com dtype=str, que contém as classes previstas para cada amostra do conjunto de teste\n",
        "predicao = np.array(predicao, dtype=str)\n",
        "\n",
        "# Imprime as predições para todas as amostras do conjunto de teste\n",
        "print(predicao)"
      ]
    },
    {
      "cell_type": "markdown",
      "metadata": {
        "id": "YoNiO6XHGSqa"
      },
      "source": [
        "# **3 - Avaliação do modelo**\n",
        "\n",
        "\n",
        "\n",
        "\n",
        "> Nesta seção há a finalização do processo de avaliação do modelo, fornecendo uma métrica quantitativa (acurácia) que indica o quão bem o modelo está performando em fazer predições corretas sobre o conjunto de testes.\n",
        "\n",
        "\n",
        "> ❗Interpretação da Precisão (Acurácia):\n",
        "\n",
        "*   A acurácia é uma métrica comum utilizada para avaliar a performance de um modelo de classificação.\n",
        "*   Ela é calculada como a proporção de predições corretas em relação ao total de amostras no conjunto de teste.\n",
        "*   Valores mais altos de acurácia indicam um melhor desempenho do modelo em fazer predições corretas.\n",
        "\n",
        "\n",
        "\n",
        "\n",
        "\n",
        "\n"
      ]
    },
    {
      "cell_type": "markdown",
      "metadata": {
        "id": "6x5o4epLHbp4"
      },
      "source": [
        "## Medir precisão"
      ]
    },
    {
      "cell_type": "code",
      "execution_count": 7,
      "metadata": {
        "id": "BDd4bphvHYXu"
      },
      "outputs": [],
      "source": [
        "# Calcula a precisão das predições comparadas aos rótulos reais\n",
        "precisao = accuracy_score(predicao, y_test)"
      ]
    },
    {
      "cell_type": "markdown",
      "metadata": {
        "id": "rNQzp8fVHrSw"
      },
      "source": [
        "## Para que proporção dos registros contidos no conjunto de teste o seu modelo consegue predizer corretamente a classe?"
      ]
    },
    {
      "cell_type": "code",
      "execution_count": 8,
      "metadata": {
        "colab": {
          "base_uri": "https://localhost:8080/"
        },
        "id": "Wf7I4z_FHqmm",
        "outputId": "f78c4874-5819-4447-ae35-e756df4cec74"
      },
      "outputs": [
        {
          "name": "stdout",
          "output_type": "stream",
          "text": [
            "Para aproximadamente 78.01% das amostras no conjunto de teste, o modelo fez a predição correta da classe\n"
          ]
        }
      ],
      "source": [
        "print(f'Para aproximadamente {precisao * 100:.2f}% das amostras no conjunto de teste, o modelo fez a predição correta da classe')"
      ]
    }
  ],
  "metadata": {
    "colab": {
      "provenance": []
    },
    "kernelspec": {
      "display_name": "Python 3",
      "name": "python3"
    },
    "language_info": {
      "codemirror_mode": {
        "name": "ipython",
        "version": 3
      },
      "file_extension": ".py",
      "mimetype": "text/x-python",
      "name": "python",
      "nbconvert_exporter": "python",
      "pygments_lexer": "ipython3",
      "version": "3.12.2"
    }
  },
  "nbformat": 4,
  "nbformat_minor": 0
}
